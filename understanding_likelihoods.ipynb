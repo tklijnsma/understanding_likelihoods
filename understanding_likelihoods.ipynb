{
 "cells": [
  {
   "cell_type": "code",
   "execution_count": 42,
   "metadata": {},
   "outputs": [],
   "source": [
    "import numpy as np\n",
    "import matplotlib.pyplot as plt\n",
    "import math\n",
    "from scipy.stats import poisson, norm\n",
    "from scipy.optimize import minimize_scalar"
   ]
  },
  {
   "cell_type": "code",
   "execution_count": 43,
   "metadata": {},
   "outputs": [],
   "source": [
    "def q_simple_count(mu, n_obs, sig, bkg, debug=False):\n",
    "    \"\"\"\n",
    "    Compute test statistic q for a single-bin experiment\n",
    "    mu: the assumed signal strength\n",
    "    n_obs: number of observed events\n",
    "    sig: expected number of signal events\n",
    "    bkg: expected number of bkg events\n",
    "    \"\"\"\n",
    "    mu_opt = (n_obs-bkg)/sig # Would normally be a fit but easy in this case\n",
    "    L_opt = poisson_likelihood(n_obs, mu_opt, sig, bkg)\n",
    "    L_this_mu = poisson_likelihood(n_obs, mu, sig, bkg)\n",
    "    _lambda = L_this_mu / L_opt\n",
    "    q = -2*np.log(_lambda)\n",
    "    if debug:\n",
    "        if isinstance(mu, np.ndarray):\n",
    "            print(f'{L_opt=}')\n",
    "            print(f'{L_this_mu=}')\n",
    "            print(f'{mu=}')\n",
    "            print(f'{q=}')\n",
    "            for _mu in mu: q_simple_count(_mu, n_obs, sig, bkg, debug)\n",
    "        else:\n",
    "            print(f'{mu=:.2f}, {mu_opt=:.2f}, {L_opt=:.5f}, {L_this_mu=:.5f}, lambda={_lambda:.5f}, {q=:.5f}')\n",
    "    return q\n",
    "\n",
    "def q_asimov(mu, mu_true, sig, bkg):\n",
    "    n_true = mu_true * sig + bkg\n",
    "    L_asimov = poisson_likelihood(n_true, mu_true, sig, bkg)\n",
    "    L_this_mu = poisson_likelihood(n_true, mu, sig, bkg)\n",
    "    _lambda = L_this_mu / L_asimov\n",
    "    q = -2*np.log(_lambda)\n",
    "    return q\n",
    "\n",
    "def sigma_squared_asimov(mu, mu_true, sig, bkg):\n",
    "    return mu**2 / q_asimov(mu, mu_true, sig, bkg)\n",
    "\n",
    "def manual_poisson_likelihood(n_obs, mu, sig, bkg):\n",
    "    n_exp = mu*sig+bkg\n",
    "    return n_exp**n_obs / math.factorial(n_obs) * np.exp(-n_exp)\n",
    "\n",
    "def poisson_likelihood(n_obs, mu, sig, bkg):\n",
    "    return poisson.pmf(n_obs, mu*sig+bkg)\n",
    "\n",
    "def solve_polynomial(polynomial_fit, y_value):\n",
    "    the_fit = polynomial_fit.copy()\n",
    "    the_fit[-1] -= y_value\n",
    "    return np.roots(the_fit)\n",
    "\n",
    "def solve_1par(fn, target):\n",
    "    def fn_to_minimize(par):\n",
    "        return (fn(par) - target)**2\n",
    "    result = minimize_scalar(fn_to_minimize)\n",
    "    return result.x\n",
    "\n",
    "def solve_1par_manual(fn, target, init_par=1., gamma=0.05, debug=False):\n",
    "    \"\"\"Simple gradient descent single parameter minimizer\"\"\"\n",
    "    par = init_par\n",
    "\n",
    "    def fn_to_minimize(par):\n",
    "        return (fn(par) - target)**2\n",
    "\n",
    "    i = 0\n",
    "    while fn_to_minimize(par) > 0.0005:\n",
    "        curr_value = fn_to_minimize(par)\n",
    "        curr_derivative = (fn_to_minimize(par+0.001) - curr_value)/0.001\n",
    "        if debug:\n",
    "            print(f'{i=}, {par=}, {curr_value=}, {curr_derivative=}, abs(target-curr_value)={abs(target-curr_value)}')\n",
    "        i += 1\n",
    "        curr_value = fn_to_minimize(par)\n",
    "        curr_derivative = (fn_to_minimize(par+0.001) - curr_value)/0.001\n",
    "        par -= gamma * curr_derivative\n",
    "        if i == 10000: raise Exception('Too many minimizer calls')\n",
    "    return par\n"
   ]
  },
  {
   "cell_type": "markdown",
   "metadata": {},
   "source": [
    "For low statistics, the chi2 (parabolic) assumption of q doesn't hold:"
   ]
  },
  {
   "cell_type": "code",
   "execution_count": 3,
   "metadata": {},
   "outputs": [
    {
     "data": {
      "image/png": "[encoded data removed]",
      "text/plain": [
       "<Figure size 360x360 with 1 Axes>"
      ]
     },
     "execution_count": 3,
     "metadata": {},
     "output_type": "execute_result"
    }
   ],
   "source": [
    "fig = plt.Figure(facecolor='white', figsize=(5,5))\n",
    "ax = fig.gca()\n",
    "mu = np.linspace(-4, 4, 9, dtype=np.int64)\n",
    "\n",
    "q = q_simple_count(mu, n_obs=10, sig=2, bkg=10)\n",
    "ax.plot(mu, q, 'o')\n",
    "\n",
    "# Also plot a fit\n",
    "mu_for_fit = np.linspace(min(mu), max(mu), 100)\n",
    "y_fit = np.polyval(np.polyfit(mu, q, 6), mu_for_fit)\n",
    "ax.plot(mu_for_fit, y_fit)\n",
    "ax.set_xlabel(r'$\\mu$')\n",
    "ax.set_ylabel(r'q')\n",
    "fig"
   ]
  },
  {
   "cell_type": "markdown",
   "metadata": {},
   "source": [
    "For high statistics q(mu) is parabolic:"
   ]
  },
  {
   "cell_type": "code",
   "execution_count": 83,
   "metadata": {},
   "outputs": [],
   "source": [
    "def high_statistics_counting_experiment(n_obs, sig, bkg, alpha=0.025):\n",
    "    fig = plt.Figure(facecolor='white', figsize=(5,5))\n",
    "    ax = fig.gca()\n",
    "    mu = np.linspace(-4, 4, 9, dtype=np.int64)\n",
    "\n",
    "    mu_opt = float(n_obs-bkg)/sig\n",
    "\n",
    "    q = q_simple_count(mu, n_obs, sig, bkg)\n",
    "    ax.plot(mu, q, 'o')\n",
    "\n",
    "    # Also plot a fit\n",
    "    mu_for_fit = np.linspace(min(mu), max(mu), 100)\n",
    "    quadratic_fit = np.polyfit(mu, q, 2)\n",
    "    q_fit = np.polyval(quadratic_fit, mu_for_fit)\n",
    "    ax.plot(mu_for_fit, q_fit)\n",
    "\n",
    "    def calc_p_value(mu):\n",
    "        return 1.-norm.cdf(np.sqrt(q_simple_count(mu, n_obs, sig, bkg)))\n",
    "\n",
    "    mu_pvalue = solve_1par(calc_p_value, alpha)\n",
    "    sigma_squared = sigma_squared_asimov(mu_pvalue, 0., sig, bkg)\n",
    "    # sigma_squared = bkg / sig**2\n",
    "    mu_cl95 = mu_opt + np.sqrt(sigma_squared) * norm.ppf(1-alpha)\n",
    "    print(\n",
    "        f'{mu_opt=:.4f}, {mu_pvalue=:.4f},'\n",
    "        f' p_mu_pvalue={calc_p_value(mu_pvalue):.4f}, {sigma_squared=:.4f}, {mu_cl95=:.4f}'\n",
    "        f', q(mu_cl95)={np.polyval(quadratic_fit, mu_cl95)}'\n",
    "        )\n",
    "\n",
    "    ax.plot([mu_cl95, mu_cl95], [0., max(q)], '--')\n",
    "    ax.text(\n",
    "        0.99, .99, f'$\\\\mu < {mu_cl95:.4f}$ (95% CL)',\n",
    "        horizontalalignment='right',\n",
    "        verticalalignment='top',\n",
    "        transform=ax.transAxes\n",
    "        )\n",
    "    ax.set_xlabel(r'$\\mu$')\n",
    "    ax.set_ylabel(r'q')\n",
    "    return fig"
   ]
  },
  {
   "cell_type": "code",
   "execution_count": 84,
   "metadata": {},
   "outputs": [
    {
     "name": "stdout",
     "output_type": "stream",
     "text": [
      "mu_opt=0.0000, mu_pvalue=0.9864, p_mu_pvalue=0.0250, sigma_squared=0.2533, mu_cl95=0.9864, q(mu_cl95)=3.2570810772088437\n"
     ]
    },
    {
     "data": {
      "image/png": "[encoded data removed]",
      "text/plain": [
       "<Figure size 360x360 with 1 Axes>"
      ]
     },
     "execution_count": 84,
     "metadata": {},
     "output_type": "execute_result"
    }
   ],
   "source": [
    "high_statistics_counting_experiment(n_obs=10000, sig=200, bkg=10000)"
   ]
  },
  {
   "cell_type": "markdown",
   "metadata": {},
   "source": [
    "Corresponding combine output:<br>\n",
    "Observed Limit: r < 0.9873<br>\n",
    "Expected  2.5%: r < 0.5327<br>\n",
    "Expected 16.0%: r < 0.7107<br>\n",
    "Expected 50.0%: r < 0.9883<br>\n",
    "Expected 84.0%: r < 1.3743<br>\n",
    "Expected 97.5%: r < 1.8267"
   ]
  },
  {
   "cell_type": "code",
   "execution_count": 90,
   "metadata": {},
   "outputs": [
    {
     "name": "stdout",
     "output_type": "stream",
     "text": [
      "mu_opt=0.5000, mu_pvalue=-0.4785, p_mu_pvalue=0.0250, sigma_squared=0.2484, mu_cl95=1.4768, q(mu_cl95)=2.9630129292524194\n"
     ]
    },
    {
     "data": {
      "image/png": "[encoded data removed]",
      "text/plain": [
       "<Figure size 360x360 with 1 Axes>"
      ]
     },
     "execution_count": 90,
     "metadata": {},
     "output_type": "execute_result"
    }
   ],
   "source": [
    "high_statistics_counting_experiment(n_obs=10100, sig=200, bkg=10000, alpha=0.025)"
   ]
  },
  {
   "cell_type": "markdown",
   "metadata": {},
   "source": [
    "Corresponding combine output:<br>\n",
    "Observed Limit: r < 1.3749<br>\n",
    "Expected  2.5%: r < 0.5327<br>\n",
    "Expected 16.0%: r < 0.7107<br>\n",
    "Expected 50.0%: r < 0.9883<br>\n",
    "Expected 84.0%: r < 1.3743<br>\n",
    "Expected 97.5%: r < 1.8267"
   ]
  },
  {
   "cell_type": "code",
   "execution_count": 89,
   "metadata": {},
   "outputs": [
    {
     "name": "stdout",
     "output_type": "stream",
     "text": [
      "mu_opt=0.5000, mu_pvalue=-2.5941, p_mu_pvalue=0.0250, sigma_squared=2.4913, mu_cl95=3.5936, q(mu_cl95)=3.810804434446166\n"
     ]
    },
    {
     "data": {
      "image/png": "[encoded data removed]",
      "text/plain": [
       "<Figure size 360x360 with 1 Axes>"
      ]
     },
     "execution_count": 89,
     "metadata": {},
     "output_type": "execute_result"
    }
   ],
   "source": [
    "high_statistics_counting_experiment(n_obs=100100, sig=200, bkg=100000, alpha=0.025)"
   ]
  },
  {
   "cell_type": "code",
   "execution_count": null,
   "metadata": {},
   "outputs": [],
   "source": []
  },
  {
   "cell_type": "code",
   "execution_count": 183,
   "metadata": {},
   "outputs": [
    {
     "data": {
      "text/plain": [
       "3.9474540764349513"
      ]
     },
     "execution_count": 183,
     "metadata": {},
     "output_type": "execute_result"
    }
   ],
   "source": [
    "q_asimov(1., 0., sig, bkg)"
   ]
  },
  {
   "cell_type": "code",
   "execution_count": 184,
   "metadata": {},
   "outputs": [
    {
     "data": {
      "text/plain": [
       "0.2533278362805239"
      ]
     },
     "execution_count": 184,
     "metadata": {},
     "output_type": "execute_result"
    }
   ],
   "source": [
    "sigma_squared_asimov(1., 0., sig, bkg)"
   ]
  },
  {
   "cell_type": "markdown",
   "metadata": {},
   "source": [
    "Based on second derivates (https://arxiv.org/pdf/1007.1727.pdf , Eq.27)"
   ]
  },
  {
   "cell_type": "code",
   "execution_count": 185,
   "metadata": {},
   "outputs": [
    {
     "data": {
      "text/plain": [
       "0.25"
      ]
     },
     "execution_count": 185,
     "metadata": {},
     "output_type": "execute_result"
    }
   ],
   "source": [
    "sigma = bkg / sig**2\n",
    "sigma"
   ]
  },
  {
   "cell_type": "code",
   "execution_count": 26,
   "metadata": {},
   "outputs": [
    {
     "data": {
      "text/plain": [
       "0.9873727736091173"
      ]
     },
     "execution_count": 26,
     "metadata": {},
     "output_type": "execute_result"
    }
   ],
   "source": [
    "np.sqrt(sigma_squared_asimov(1.13766, 0., sig, bkg)) * norm.ppf(1-.025)"
   ]
  },
  {
   "cell_type": "code",
   "execution_count": 27,
   "metadata": {},
   "outputs": [],
   "source": [
    "def fn_to_solve(mu):\n",
    "    return 2.*(1.-norm.cdf(np.sqrt(q_simple_count(mu, n_obs, sig, bkg))))\n",
    "\n",
    "mu_cl= solve_1par(fn_to_solve, 0.025, init_par=.5)\n"
   ]
  },
  {
   "cell_type": "code",
   "execution_count": 68,
   "metadata": {},
   "outputs": [
    {
     "name": "stdout",
     "output_type": "stream",
     "text": [
      "1.6448536269514722\n",
      "1.959963984540054\n"
     ]
    }
   ],
   "source": [
    "print(norm.ppf(1-0.05))\n",
    "print(norm.ppf(1-0.025))"
   ]
  },
  {
   "cell_type": "code",
   "execution_count": null,
   "metadata": {},
   "outputs": [],
   "source": []
  }
 ],
 "metadata": {
  "interpreter": {
   "hash": "c84f7ec6c6ba2c07fcb70629c04173b86980e1111f4d2d78267a6bd8fd767208"
  },
  "kernelspec": {
   "display_name": "Python 3.9.6 ('likelihoods': venv)",
   "language": "python",
   "name": "python3"
  },
  "language_info": {
   "codemirror_mode": {
    "name": "ipython",
    "version": 3
   },
   "file_extension": ".py",
   "mimetype": "text/x-python",
   "name": "python",
   "nbconvert_exporter": "python",
   "pygments_lexer": "ipython3",
   "version": "3.9.6"
  },
  "orig_nbformat": 4
 },
 "nbformat": 4,
 "nbformat_minor": 2
}
